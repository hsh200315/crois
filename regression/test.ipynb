{
 "cells": [
  {
   "cell_type": "code",
   "execution_count": 19,
   "metadata": {},
   "outputs": [
    {
     "name": "stdout",
     "output_type": "stream",
     "text": [
      "92270a03fe0c4427b5e0efcdde194b17\n"
     ]
    }
   ],
   "source": [
    "import mlflow\n",
    "import mlflow.artifacts\n",
    "\n",
    "# Case sensitive name\n",
    "experiment = mlflow.get_experiment_by_name(\"tool_wear_regression\")\n",
    "experiment_id = experiment.experiment_id\n",
    "\n",
    "# if experiment is None:\n",
    "# \traise ValueError(\"Experiment not found\")\n",
    "# else:\n",
    "# \tprint(f\"Experiment_id: {experiment.experiment_id}\")\n",
    "# \tprint(f\"Artifact Location: {experiment.artifact_location}\")\n",
    "# \tprint(f\"Tags: {experiment.tags}\")\n",
    "# \tprint(f\"Lifecycle_stage: {experiment.lifecycle_stage}\")\n",
    "# \tprint(f\"Creation timestamp: {experiment.creation_time}\")\"\n",
    "\n",
    "runs = mlflow.search_runs(experiment_id)\n",
    "\n",
    "my_run = runs.loc[4]\n",
    "my_run_id = my_run['run_id']\n",
    "\n",
    "artifact_uri = f\"s3://mlflow/{experiment_id}/{my_run_id}/artifacts/model\"\n",
    "\n",
    "mlflow.artifacts.download_artifacts()"
   ]
  },
  {
   "cell_type": "code",
   "execution_count": null,
   "metadata": {},
   "outputs": [],
   "source": []
  }
 ],
 "metadata": {
  "kernelspec": {
   "display_name": "base",
   "language": "python",
   "name": "python3"
  },
  "language_info": {
   "codemirror_mode": {
    "name": "ipython",
    "version": 3
   },
   "file_extension": ".py",
   "mimetype": "text/x-python",
   "name": "python",
   "nbconvert_exporter": "python",
   "pygments_lexer": "ipython3",
   "version": "3.11.9"
  }
 },
 "nbformat": 4,
 "nbformat_minor": 2
}
